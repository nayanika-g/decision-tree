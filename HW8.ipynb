{
 "cells": [
  {
   "cell_type": "markdown",
   "metadata": {},
   "source": [
    "# CS530 HW8"
   ]
  },
  {
   "cell_type": "markdown",
   "metadata": {},
   "source": [
    "#### Question 1. (4 points)\n",
    "\n",
    "a. For classification trees, implement three functions to calculate the (1) cross-entropy, (2) Gini index, and (3) misclassification error. Assume binary classification (labels are 0’s and 1’s). The functions takes p_1, the probability of a record belong to class k=1, as input."
   ]
  },
  {
   "cell_type": "code",
   "execution_count": 70,
   "metadata": {},
   "outputs": [],
   "source": [
    "import numpy as np\n",
    "def cal_cross_entropy(p_1):\n",
    "    p_2 = 1-p_1\n",
    "    if(p_1 == 0 or p_2 == 0):\n",
    "        cross_entropy = 0\n",
    "    else:\n",
    "        cross_entropy = -p_1*np.log2(p_2)\n",
    "    return cross_entropy\n",
    "\n",
    "def cal_gini_index(p_1):\n",
    "    p_2 = 1-p_1\n",
    "    gini_index = 1-(p_1**2 + p_2**2)\n",
    "    return gini_index\n",
    "\n",
    "def cal_misclassification_error(p_1):\n",
    "    mc_error = 1-p_1\n",
    "    return mc_error"
   ]
  },
  {
   "cell_type": "markdown",
   "metadata": {},
   "source": [
    "b. Apply the three functions you implemented in 1a on the training test (train.csv) of the heart-disease dataset. Choose the 'age' variable as the root node. Use each value in the 'age' variable as the splitting value. Plot the cross entropy, Gini index, and misclassification error over age on the two child nodes after splitting."
   ]
  },
  {
   "cell_type": "code",
   "execution_count": 52,
   "metadata": {},
   "outputs": [],
   "source": [
    "# Your code goes here\n",
    "import pandas as pd\n",
    "from sklearn.model_selection import train_test_split\n",
    "\n",
    "train = pd.read_csv(\"../grace_gupta_HW8/train.csv\")\n",
    "X = train.loc[:,'age':'thal']\n",
    "y = train['target']\n",
    "X_train, X_test, y_train, y_test=train_test_split(X,y,test_size=0.2)"
   ]
  },
  {
   "cell_type": "code",
   "execution_count": 79,
   "metadata": {},
   "outputs": [],
   "source": [
    "# Your code goes here\n",
    "root = X_train['age']\n",
    "gini = []\n",
    "cross_ent = []\n",
    "error = [] \n",
    "\n",
    "for age in root:\n",
    "\n",
    "    group1 = 0\n",
    "    group2 = 0\n",
    "    group1_zero = 0\n",
    "    group2_zero = 0\n",
    "    \n",
    "    for i, row in X_train.iterrows():\n",
    "        if(row['age'] > age):\n",
    "            group1 += 1\n",
    "            if(y_train.loc[i] == 0):\n",
    "                group1_zero += 1\n",
    "        else:\n",
    "            group2 += 1\n",
    "            if(y_train.loc[i] == 0):\n",
    "                group2_zero += 1\n",
    "\n",
    "    #calculate probabilities\n",
    "    if(group1 == 0):\n",
    "        group1_p0 = 0\n",
    "    else:\n",
    "        group1_p0 = group1_zero/group1\n",
    "    if(group2 == 0):\n",
    "        group2_p0 = 0\n",
    "    else:\n",
    "        group2_p0 = group2_zero/group2\n",
    "    \n",
    "    gini_score = (cal_gini_index(group1_p0) + cal_gini_index(group2_p0))/2\n",
    "    gini.append(gini_score)\n",
    "    entropy_score = (cal_cross_entropy(group1_p0) + cal_cross_entropy(group2_p0))/2\n",
    "    cross_ent.append(entropy_score)\n",
    "    \n",
    "    if(group1_p0 > 1-group1_p0):\n",
    "        error_score = cal_misclassification_error(group1_p0)\n",
    "    else:\n",
    "        error_score = cal_misclassification_error(1-group1_p0)\n",
    "    if(group2_p0 > 1-group2_p0):\n",
    "        error_score = cal_misclassification_error(group2_p0)\n",
    "    else:\n",
    "        error_score = cal_misclassification_error(1-group2_p0)\n",
    "    error.append(error_score)"
   ]
  },
  {
   "cell_type": "code",
   "execution_count": 59,
   "metadata": {},
   "outputs": [
    {
     "data": {
      "text/plain": [
       "<function matplotlib.pyplot.show(*args, **kw)>"
      ]
     },
     "execution_count": 59,
     "metadata": {},
     "output_type": "execute_result"
    },
    {
     "data": {
      "image/png": "[encoded data removed]",
      "text/plain": [
       "<Figure size 432x288 with 1 Axes>"
      ]
     },
     "metadata": {},
     "output_type": "display_data"
    }
   ],
   "source": [
    "%matplotlib inline\n",
    "import matplotlib.pyplot as plt\n",
    "plt.scatter(root, gini)\n",
    "plt.xlabel(\"Age\")\n",
    "plt.ylabel(\"Gini index\")\n",
    "plt.show"
   ]
  },
  {
   "cell_type": "code",
   "execution_count": 73,
   "metadata": {},
   "outputs": [
    {
     "data": {
      "text/plain": [
       "<function matplotlib.pyplot.show(*args, **kw)>"
      ]
     },
     "execution_count": 73,
     "metadata": {},
     "output_type": "execute_result"
    },
    {
     "data": {
      "image/png": "[encoded data removed]",
      "text/plain": [
       "<Figure size 432x288 with 1 Axes>"
      ]
     },
     "metadata": {},
     "output_type": "display_data"
    }
   ],
   "source": [
    "plt.scatter(root, cross_ent)\n",
    "plt.xlabel(\"Age\")\n",
    "plt.ylabel(\"Cross-entropy\")\n",
    "plt.show"
   ]
  },
  {
   "cell_type": "code",
   "execution_count": 81,
   "metadata": {},
   "outputs": [
    {
     "data": {
      "text/plain": [
       "<function matplotlib.pyplot.show(*args, **kw)>"
      ]
     },
     "execution_count": 81,
     "metadata": {},
     "output_type": "execute_result"
    },
    {
     "data": {
      "image/png": "[encoded data removed]",
      "text/plain": [
       "<Figure size 432x288 with 1 Axes>"
      ]
     },
     "metadata": {},
     "output_type": "display_data"
    }
   ],
   "source": [
    "plt.scatter(root, error)\n",
    "plt.xlabel(\"Age\")\n",
    "plt.ylabel(\"Misclassification error\")\n",
    "plt.show"
   ]
  },
  {
   "cell_type": "code",
   "execution_count": 85,
   "metadata": {},
   "outputs": [
    {
     "data": {
      "text/plain": [
       "<function matplotlib.pyplot.show(*args, **kw)>"
      ]
     },
     "execution_count": 85,
     "metadata": {},
     "output_type": "execute_result"
    },
    {
     "data": {
      "image/png": "[encoded data removed]",
      "text/plain": [
       "<Figure size 432x288 with 1 Axes>"
      ]
     },
     "metadata": {},
     "output_type": "display_data"
    }
   ],
   "source": [
    "plt.scatter(root, gini, label='Gini index')\n",
    "plt.scatter(root, cross_ent, label='Cross entropy')\n",
    "plt.scatter(root, error, label='Misclassification error')\n",
    "plt.xlabel(\"Age\")\n",
    "plt.legend(loc='upper left')\n",
    "plt.show"
   ]
  },
  {
   "cell_type": "markdown",
   "metadata": {},
   "source": [
    "c. Discuss what you find in 1b. What age would you choose for the splitting value?"
   ]
  },
  {
   "cell_type": "markdown",
   "metadata": {},
   "source": [
    "Around 60 years old****"
   ]
  },
  {
   "cell_type": "markdown",
   "metadata": {},
   "source": [
    "#### Question 2. (3 points)"
   ]
  },
  {
   "cell_type": "markdown",
   "metadata": {},
   "source": [
    "a. Implement a function to carry out the regression tree algorithm using the greedy approach. This implementation assumes the tree only splits twice. The function takes inputs X_train, y_train, and X_test, and return a prediction y_pred for X_test."
   ]
  },
  {
   "cell_type": "code",
   "execution_count": 2,
   "metadata": {},
   "outputs": [],
   "source": [
    "def regression_tree(X_train, y_train, X_test):\n",
    "    \n",
    "    return y_pred"
   ]
  },
  {
   "cell_type": "markdown",
   "metadata": {},
   "source": [
    "b. Use the function you implemented in 2a to predict on the synthetic data below."
   ]
  },
  {
   "cell_type": "code",
   "execution_count": 12,
   "metadata": {},
   "outputs": [],
   "source": [
    "from sklearn.datasets import make_regression\n",
    "from sklearn.model_selection import train_test_split\n",
    "# make a linearly separable dataset\n",
    "X, y = make_regression(n_samples=1000,\n",
    "                       n_features=3)\n",
    "X_train, X_test, y_train, y_test = train_test_split(X, y, test_size=0.33, random_state=42)\n"
   ]
  },
  {
   "cell_type": "code",
   "execution_count": null,
   "metadata": {},
   "outputs": [],
   "source": [
    "# Your code goes here"
   ]
  },
  {
   "cell_type": "markdown",
   "metadata": {},
   "source": [
    "c. Do you think this implementation of the regression tree is a good model for this dataset? Explain."
   ]
  },
  {
   "cell_type": "code",
   "execution_count": 15,
   "metadata": {},
   "outputs": [],
   "source": [
    "# Your discussion goes here"
   ]
  },
  {
   "cell_type": "markdown",
   "metadata": {},
   "source": [
    "#### Question 3. (3 points)\n",
    "\n",
    "a. Use the scikit-learn package to run Bagging and Random Forest on the heart-disease dataset and predict on its test set. Use cross-validation to find the best parameters for these algorithms."
   ]
  },
  {
   "cell_type": "code",
   "execution_count": 13,
   "metadata": {},
   "outputs": [],
   "source": [
    "# Your code goes here"
   ]
  },
  {
   "cell_type": "markdown",
   "metadata": {},
   "source": [
    "b. On the same axes, plot the ROC curves for the two algorithms with the best parameters that you found in 3a. Annotate their AUC values and compare their performance. "
   ]
  },
  {
   "cell_type": "code",
   "execution_count": null,
   "metadata": {},
   "outputs": [],
   "source": [
    "# Your code goes here"
   ]
  },
  {
   "cell_type": "markdown",
   "metadata": {},
   "source": [
    "c. Explain your results in 3b. Why might the results vary across algorithms?"
   ]
  },
  {
   "cell_type": "code",
   "execution_count": 1,
   "metadata": {},
   "outputs": [],
   "source": [
    "# Your discussion goes here"
   ]
  },
  {
   "cell_type": "code",
   "execution_count": null,
   "metadata": {},
   "outputs": [],
   "source": []
  }
 ],
 "metadata": {
  "kernelspec": {
   "display_name": "Python 3",
   "language": "python",
   "name": "python3"
  },
  "language_info": {
   "codemirror_mode": {
    "name": "ipython",
    "version": 3
   },
   "file_extension": ".py",
   "mimetype": "text/x-python",
   "name": "python",
   "nbconvert_exporter": "python",
   "pygments_lexer": "ipython3",
   "version": "3.6.8"
  }
 },
 "nbformat": 4,
 "nbformat_minor": 2
}
