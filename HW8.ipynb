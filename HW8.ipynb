{
 "cells": [
  {
   "cell_type": "markdown",
   "metadata": {},
   "source": [
    "# CS530 HW8"
   ]
  },
  {
   "cell_type": "markdown",
   "metadata": {},
   "source": [
    "#### Question 1. (4 points)\n",
    "\n",
    "a. For classification trees, implement three functions to calculate the (1) cross-entropy, (2) Gini index, and (3) misclassification error. Assume binary classification (labels are 0’s and 1’s). The functions takes p_1, the probability of a record belong to class k=1, as input."
   ]
  },
  {
   "cell_type": "code",
   "execution_count": 70,
   "metadata": {},
   "outputs": [],
   "source": [
    "import numpy as np\n",
    "def cal_cross_entropy(p_1):\n",
    "    p_2 = 1-p_1\n",
    "    if(p_1 == 0 or p_2 == 0):\n",
    "        cross_entropy = 0\n",
    "    else:\n",
    "        cross_entropy = -p_1*np.log2(p_2)\n",
    "    return cross_entropy\n",
    "\n",
    "def cal_gini_index(p_1):\n",
    "    p_2 = 1-p_1\n",
    "    gini_index = 1-(p_1**2 + p_2**2)\n",
    "    return gini_index\n",
    "\n",
    "def cal_misclassification_error(p_1):\n",
    "    mc_error = 1-p_1\n",
    "    return mc_error"
   ]
  },
  {
   "cell_type": "markdown",
   "metadata": {},
   "source": [
    "b. Apply the three functions you implemented in 1a on the training test (train.csv) of the heart-disease dataset. Choose the 'age' variable as the root node. Use each value in the 'age' variable as the splitting value. Plot the cross entropy, Gini index, and misclassification error over age on the two child nodes after splitting."
   ]
  },
  {
   "cell_type": "code",
   "execution_count": 52,
   "metadata": {},
   "outputs": [],
   "source": [
    "# Your code goes here\n",
    "import pandas as pd\n",
    "from sklearn.model_selection import train_test_split\n",
    "\n",
    "train = pd.read_csv(\"../grace_gupta_HW8/train.csv\")\n",
    "X = train.loc[:,'age':'thal']\n",
    "y = train['target']\n",
    "X_train, X_test, y_train, y_test=train_test_split(X,y,test_size=0.2)"
   ]
  },
  {
   "cell_type": "code",
   "execution_count": 79,
   "metadata": {},
   "outputs": [],
   "source": [
    "# Your code goes here\n",
    "root = X_train['age']\n",
    "gini = []\n",
    "cross_ent = []\n",
    "error = [] \n",
    "\n",
    "for age in root:\n",
    "\n",
    "    group1 = 0\n",
    "    group2 = 0\n",
    "    group1_zero = 0\n",
    "    group2_zero = 0\n",
    "    \n",
    "    for i, row in X_train.iterrows():\n",
    "        if(row['age'] > age):\n",
    "            group1 += 1\n",
    "            if(y_train.loc[i] == 0):\n",
    "                group1_zero += 1\n",
    "        else:\n",
    "            group2 += 1\n",
    "            if(y_train.loc[i] == 0):\n",
    "                group2_zero += 1\n",
    "\n",
    "    #calculate probabilities\n",
    "    if(group1 == 0):\n",
    "        group1_p0 = 0\n",
    "    else:\n",
    "        group1_p0 = group1_zero/group1\n",
    "    if(group2 == 0):\n",
    "        group2_p0 = 0\n",
    "    else:\n",
    "        group2_p0 = group2_zero/group2\n",
    "    \n",
    "    gini_score = (cal_gini_index(group1_p0) + cal_gini_index(group2_p0))/2\n",
    "    gini.append(gini_score)\n",
    "    entropy_score = (cal_cross_entropy(group1_p0) + cal_cross_entropy(group2_p0))/2\n",
    "    cross_ent.append(entropy_score)\n",
    "    \n",
    "    if(group1_p0 > 1-group1_p0):\n",
    "        error_score = cal_misclassification_error(group1_p0)\n",
    "    else:\n",
    "        error_score = cal_misclassification_error(1-group1_p0)\n",
    "    if(group2_p0 > 1-group2_p0):\n",
    "        error_score = cal_misclassification_error(group2_p0)\n",
    "    else:\n",
    "        error_score = cal_misclassification_error(1-group2_p0)\n",
    "    error.append(error_score)"
   ]
  },
  {
   "cell_type": "code",
   "execution_count": 87,
   "metadata": {},
   "outputs": [
    {
     "data": {
      "text/plain": [
       "<function matplotlib.pyplot.show(*args, **kw)>"
      ]
     },
     "execution_count": 87,
     "metadata": {},
     "output_type": "execute_result"
    },
    {
     "data": {
      "image/png": "[encoded data removed]",
      "text/plain": [
       "<Figure size 432x288 with 1 Axes>"
      ]
     },
     "metadata": {},
     "output_type": "display_data"
    }
   ],
   "source": [
    "%matplotlib inline\n",
    "import matplotlib.pyplot as plt\n",
    "\n",
    "plt.scatter(root, gini, label='Gini index')\n",
    "plt.scatter(root, cross_ent, label='Cross entropy')\n",
    "plt.scatter(root, error, label='Misclassification error')\n",
    "plt.xlabel(\"Age\")\n",
    "plt.legend(loc='upper left')\n",
    "plt.show"
   ]
  },
  {
   "cell_type": "markdown",
   "metadata": {},
   "source": [
    "c. Discuss what you find in 1b. What age would you choose for the splitting value?"
   ]
  },
  {
   "cell_type": "markdown",
   "metadata": {},
   "source": [
    "Around 60 years old****"
   ]
  },
  {
   "cell_type": "markdown",
   "metadata": {},
   "source": [
    "#### Question 2. (3 points)"
   ]
  },
  {
   "cell_type": "markdown",
   "metadata": {},
   "source": [
    "a. Implement a function to carry out the regression tree algorithm using the greedy approach. This implementation assumes the tree only splits twice. The function takes inputs X_train, y_train, and X_test, and return a prediction y_pred for X_test."
   ]
  },
  {
   "cell_type": "code",
   "execution_count": 204,
   "metadata": {},
   "outputs": [],
   "source": [
    "def get_split(X_train, y_train):\n",
    "    min_error = 1\n",
    "    tuple_info = ()\n",
    "    for c in range(X_train.shape[1]): #for every column\n",
    "        for value in X_train[:,[c]]: #value to split on\n",
    "            group1_labels = []\n",
    "            group2_labels = []\n",
    "            group1_indexes = []\n",
    "            group2_indexes = []\n",
    "            for r in range(X_train.shape[0]):\n",
    "                if X_train[r][c] > value:\n",
    "                    group1_labels.append(y_train[r])\n",
    "                    group1_indexes.append(r)\n",
    "                else:\n",
    "                    group2_labels.append(y_train[r])\n",
    "                    group2_indexes.append(r)\n",
    "            #average labels for each group\n",
    "            avg1 = np.sum(group1_labels)/len(group1_labels)\n",
    "            avg2 = np.sum(group2_labels)/len(group2_labels)\n",
    "            #calculate error\n",
    "            error1 = (y_train[r]-avg1)**2\n",
    "            error2 = (y_train[r]-avg2)**2\n",
    "            #update which column, value has the least error\n",
    "            if(error1 < min_error and error1 < error2):\n",
    "                min_error = error1\n",
    "                tuple_info = (c, value, avg1, avg2)\n",
    "            elif(error2 < min_error and error2 < error1):\n",
    "                min_error = error2\n",
    "                tuple_info = (c, value, avg1, avg2)\n",
    "                \n",
    "    return group1_indexes, group2_indexes, tuple_info"
   ]
  },
  {
   "cell_type": "code",
   "execution_count": 228,
   "metadata": {},
   "outputs": [],
   "source": [
    "def regression_tree(X_train, y_train, X_test):\n",
    "    group1_indexes, group2_indexes, tuple_info = get_split(X_train, y_train)\n",
    "    group11_indexes, group12_indexes, tuple_info_1 = get_split(X_train[group1_indexes], y_train[group1_indexes]) #split on right node\n",
    "    group21_indexes, group22_indexes, tuple_info_2 = get_split(X_train[group2_indexes], y_train[group2_indexes]) #split on left node    \n",
    "    #group11 = right right\n",
    "    #group12 = right left\n",
    "    #group21 = left right\n",
    "    #group22 = left left\n",
    "    \n",
    "    first_split_value = tuple_info[1][0]\n",
    "    right_split_value = tuple_info_1[1][0]\n",
    "    left_split_value = tuple_info_2[1][0]\n",
    "    \n",
    "    first_col = tuple_info[0]\n",
    "    right_col = tuple_info_1[0]\n",
    "    left_col = tuple_info_2[0]\n",
    "\n",
    "    y_pred = []\n",
    "    for r in range(X_test.shape[0]):\n",
    "        if(X_test[r][first_col] > first_split_value):\n",
    "            if(X_test[r][right_col] > right_split_value):\n",
    "                y_pred.append(tuple_info_1[2])\n",
    "            else:\n",
    "                y_pred.append(tuple_info_1[3])\n",
    "        else:\n",
    "            if(X_test[r][left_col] > left_split_value):\n",
    "                y_pred.append(tuple_info_2[2])\n",
    "            else:\n",
    "                y_pred.append(tuple_info_2[3])\n",
    "                \n",
    "    y_pred = np.array(y_pred)\n",
    "    \n",
    "    return y_pred"
   ]
  },
  {
   "cell_type": "markdown",
   "metadata": {},
   "source": [
    "b. Use the function you implemented in 2a to predict on the synthetic data below."
   ]
  },
  {
   "cell_type": "code",
   "execution_count": 206,
   "metadata": {},
   "outputs": [],
   "source": [
    "# Your code goes here\n",
    "from sklearn.datasets import make_regression\n",
    "from sklearn.model_selection import train_test_split\n",
    "# make a linearly separable dataset\n",
    "X, y = make_regression(n_samples=1000,\n",
    "                       n_features=3)\n",
    "X_train, X_test, y_train, y_test = train_test_split(X, y, test_size=0.33, random_state=42)\n"
   ]
  },
  {
   "cell_type": "code",
   "execution_count": 229,
   "metadata": {},
   "outputs": [
    {
     "name": "stderr",
     "output_type": "stream",
     "text": [
      "/Users/gracegupta/anaconda3/lib/python3.6/site-packages/ipykernel_launcher.py:18: RuntimeWarning: invalid value encountered in double_scalars\n"
     ]
    }
   ],
   "source": [
    "y_pred = regression_tree(X_train, y_train, X_test)"
   ]
  },
  {
   "cell_type": "code",
   "execution_count": 236,
   "metadata": {},
   "outputs": [
    {
     "name": "stdout",
     "output_type": "stream",
     "text": [
      "(330,)\n",
      "(330,)\n"
     ]
    }
   ],
   "source": [
    "print(y_pred.shape)\n",
    "print(y_test.shape)"
   ]
  },
  {
   "cell_type": "markdown",
   "metadata": {},
   "source": [
    "c. Do you think this implementation of the regression tree is a good model for this dataset? Explain."
   ]
  },
  {
   "cell_type": "code",
   "execution_count": 15,
   "metadata": {},
   "outputs": [],
   "source": [
    "# Your discussion goes here"
   ]
  },
  {
   "cell_type": "markdown",
   "metadata": {},
   "source": [
    "#### Question 3. (3 points)\n",
    "\n",
    "a. Use the scikit-learn package to run Bagging and Random Forest on the heart-disease dataset and predict on its test set. Use cross-validation to find the best parameters for these algorithms."
   ]
  },
  {
   "cell_type": "code",
   "execution_count": 192,
   "metadata": {},
   "outputs": [],
   "source": [
    "X = train.loc[:,'age':'thal']\n",
    "y = train['target']\n",
    "X_train, X_test, y_train, y_test=train_test_split(X,y,test_size=0.2)"
   ]
  },
  {
   "cell_type": "code",
   "execution_count": 194,
   "metadata": {},
   "outputs": [
    {
     "data": {
      "text/plain": [
       "GridSearchCV(cv=5, error_score='raise',\n",
       "       estimator=RandomForestClassifier(bootstrap=True, class_weight=None, criterion='gini',\n",
       "            max_depth=None, max_features='auto', max_leaf_nodes=None,\n",
       "            min_impurity_decrease=0.0, min_impurity_split=None,\n",
       "            min_samples_leaf=1, min_samples_split=2,\n",
       "            min_weight_fraction_leaf=0.0, n_estimators=10, n_jobs=1,\n",
       "            oob_score=False, random_state=None, verbose=0,\n",
       "            warm_start=False),\n",
       "       fit_params=None, iid=True, n_jobs=-1,\n",
       "       param_grid={'n_estimators': [100, 300, 500, 800, 1000], 'criterion': ['gini', 'entropy'], 'bootstrap': [True, False]},\n",
       "       pre_dispatch='2*n_jobs', refit=True, return_train_score='warn',\n",
       "       scoring='accuracy', verbose=0)"
      ]
     },
     "execution_count": 194,
     "metadata": {},
     "output_type": "execute_result"
    }
   ],
   "source": [
    "from sklearn.model_selection import GridSearchCV\n",
    "\n",
    "grid_param = {\n",
    "    'n_estimators': [100, 300, 500, 800, 1000],\n",
    "    'criterion': ['gini', 'entropy'],\n",
    "    'bootstrap': [True, False]\n",
    "}\n",
    "gd_sr = GridSearchCV(estimator=RandomForestClassifier(),\n",
    "                     param_grid=grid_param,\n",
    "                     scoring='accuracy',\n",
    "                     cv=5,\n",
    "                     n_jobs=-1)\n",
    "gd_sr.fit(X_train, y_train)"
   ]
  },
  {
   "cell_type": "code",
   "execution_count": 195,
   "metadata": {},
   "outputs": [
    {
     "name": "stdout",
     "output_type": "stream",
     "text": [
      "{'bootstrap': True, 'criterion': 'entropy', 'n_estimators': 1000}\n"
     ]
    }
   ],
   "source": [
    "best_parameters = gd_sr.best_params_\n",
    "print(best_parameters)"
   ]
  },
  {
   "cell_type": "code",
   "execution_count": 196,
   "metadata": {},
   "outputs": [
    {
     "name": "stdout",
     "output_type": "stream",
     "text": [
      "[0.80645161 0.85       0.81666667]\n",
      "0.018594863248971593\n"
     ]
    }
   ],
   "source": [
    "# Your code goes here\n",
    "from sklearn.ensemble import RandomForestClassifier\n",
    "from sklearn.model_selection import cross_val_score\n",
    "\n",
    "classifier = RandomForestClassifier(n_estimators=1000, criterion='entropy', bootstrap=True, random_state=0)\n",
    "all_accuracies = cross_val_score(classifier, X_train, y_train)\n",
    "print(all_accuracies)\n",
    "print(all_accuracies.std()) #low variance"
   ]
  },
  {
   "cell_type": "code",
   "execution_count": 197,
   "metadata": {},
   "outputs": [],
   "source": [
    "classifier.fit(X_train, y_train)\n",
    "y_pred_forest = classifier.predict(X_test)"
   ]
  },
  {
   "cell_type": "code",
   "execution_count": 200,
   "metadata": {},
   "outputs": [
    {
     "ename": "IndentationError",
     "evalue": "unexpected indent (<ipython-input-200-43f41bc7227b>, line 10)",
     "output_type": "error",
     "traceback": [
      "\u001b[0;36m  File \u001b[0;32m\"<ipython-input-200-43f41bc7227b>\"\u001b[0;36m, line \u001b[0;32m10\u001b[0m\n\u001b[0;31m    n_jobs=-1)\u001b[0m\n\u001b[0m    ^\u001b[0m\n\u001b[0;31mIndentationError\u001b[0m\u001b[0;31m:\u001b[0m unexpected indent\n"
     ]
    }
   ],
   "source": [
    "grid_param = {\n",
    "    'base_estimator__max_depth' : [1, 2, 3, 4, 5],\n",
    "    'max_samples' : [0.05, 0.1, 0.2, 0.5]\n",
    "}\n",
    "gd_sr_bag = GridSearchCV(estimator=BaggingClassifier(),\n",
    "                     param_grid=grid_param,\n",
    "                     scoring='accuracy',\n",
    "                     cv=5,\n",
    "                     n_jobs=-1)\n",
    "               n_jobs=-1)"
   ]
  },
  {
   "cell_type": "code",
   "execution_count": 201,
   "metadata": {},
   "outputs": [
    {
     "name": "stdout",
     "output_type": "stream",
     "text": [
      "[0.53225806 0.53333333 0.53333333]\n",
      "0.000506886581495743\n"
     ]
    },
    {
     "data": {
      "text/plain": [
       "0.43478260869565216"
      ]
     },
     "execution_count": 201,
     "metadata": {},
     "output_type": "execute_result"
    }
   ],
   "source": [
    "from sklearn.svm import SVC\n",
    "from sklearn.ensemble import BaggingClassifier\n",
    "\n",
    "clf = BaggingClassifier(base_estimator=SVC(), n_estimators=10, random_state=0).fit(X_train, y_train)\n",
    "all_accuracies = cross_val_score(clf, X_train, y_train)\n",
    "print(all_accuracies)\n",
    "print(all_accuracies.std()) #low variance\n",
    "y_pred_bag = clf.predict(X_test)\n",
    "clf.score(X_test, y_test)"
   ]
  },
  {
   "cell_type": "markdown",
   "metadata": {},
   "source": [
    "b. On the same axes, plot the ROC curves for the two algorithms with the best parameters that you found in 3a. Annotate their AUC values and compare their performance. "
   ]
  },
  {
   "cell_type": "code",
   "execution_count": 202,
   "metadata": {},
   "outputs": [
    {
     "data": {
      "image/png": "[encoded data removed]",
      "text/plain": [
       "<Figure size 432x288 with 1 Axes>"
      ]
     },
     "metadata": {},
     "output_type": "display_data"
    }
   ],
   "source": [
    "# Your code goes here\n",
    "from sklearn import metrics\n",
    "fpr_forest, tpr_forest, threshold_forest = metrics.roc_curve(y_test, y_pred_forest)\n",
    "fpr_bag, tpr_bag, threshold_bag = metrics.roc_curve(y_test, y_pred_bag)\n",
    "\n",
    "plt.plot(fpr_forest, tpr_forest)\n",
    "plt.plot(fpr_bag, tpr_bag)\n",
    "plt.show()"
   ]
  },
  {
   "cell_type": "markdown",
   "metadata": {},
   "source": [
    "c. Explain your results in 3b. Why might the results vary across algorithms?"
   ]
  },
  {
   "cell_type": "code",
   "execution_count": 1,
   "metadata": {},
   "outputs": [],
   "source": [
    "# Your discussion goes here"
   ]
  },
  {
   "cell_type": "code",
   "execution_count": null,
   "metadata": {},
   "outputs": [],
   "source": []
  }
 ],
 "metadata": {
  "kernelspec": {
   "display_name": "Python 3",
   "language": "python",
   "name": "python3"
  },
  "language_info": {
   "codemirror_mode": {
    "name": "ipython",
    "version": 3
   },
   "file_extension": ".py",
   "mimetype": "text/x-python",
   "name": "python",
   "nbconvert_exporter": "python",
   "pygments_lexer": "ipython3",
   "version": "3.6.8"
  }
 },
 "nbformat": 4,
 "nbformat_minor": 2
}
